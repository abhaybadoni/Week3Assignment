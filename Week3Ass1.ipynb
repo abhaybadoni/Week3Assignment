{
 "cells": [
  {
   "cell_type": "code",
   "execution_count": 5,
   "id": "bb3067ec-f16a-4931-be19-36aaa5c8fb7e",
   "metadata": {},
   "outputs": [],
   "source": [
    "#Q1-\n",
    "#we use 'def' keyword to create a function in python\n",
    "\n",
    "def list_of_odd():\n",
    "    ls=[]\n",
    "    for i in range(1,26):\n",
    "        if i%2!=0:\n",
    "            ls.append(i)\n",
    "    return ls"
   ]
  },
  {
   "cell_type": "code",
   "execution_count": 6,
   "id": "0ab5b1e2-592f-4c3f-8ea3-490b761c94f5",
   "metadata": {},
   "outputs": [
    {
     "data": {
      "text/plain": [
       "[1, 3, 5, 7, 9, 11, 13, 15, 17, 19, 21, 23, 25]"
      ]
     },
     "execution_count": 6,
     "metadata": {},
     "output_type": "execute_result"
    }
   ],
   "source": [
    "list_of_odd()"
   ]
  },
  {
   "cell_type": "code",
   "execution_count": 7,
   "id": "0d3c29fb-88f0-4970-a015-6e8a609b0324",
   "metadata": {},
   "outputs": [],
   "source": [
    "#Q2-\n",
    "# in python *args and **kwargs are used to handle variable no. of input parameters or say arguments in the function\n",
    "# *args takes all the arguments as a whole tuple and then pass it to the function. use case-\n",
    "\n",
    "def sum(*args): # This function can take any no. of arguments for sum\n",
    "    s=0;\n",
    "    for i in args:\n",
    "        s+=i\n",
    "    return s\n"
   ]
  },
  {
   "cell_type": "code",
   "execution_count": 8,
   "id": "60241213-65e7-46c7-9d83-d1a32eb3f37b",
   "metadata": {},
   "outputs": [
    {
     "data": {
      "text/plain": [
       "23"
      ]
     },
     "execution_count": 8,
     "metadata": {},
     "output_type": "execute_result"
    }
   ],
   "source": [
    "sum(4,8,2,9)"
   ]
  },
  {
   "cell_type": "code",
   "execution_count": 9,
   "id": "d1eb0abb-86c0-4e64-9a04-ec7b017fd5f5",
   "metadata": {},
   "outputs": [
    {
     "data": {
      "text/plain": [
       "6"
      ]
     },
     "execution_count": 9,
     "metadata": {},
     "output_type": "execute_result"
    }
   ],
   "source": [
    "sum(2,4)"
   ]
  },
  {
   "cell_type": "code",
   "execution_count": 18,
   "id": "e8043ec9-a431-4ae2-addb-5b3bf9b15a41",
   "metadata": {},
   "outputs": [],
   "source": [
    "# **kwargs takes all the keyword arguments as a whole dictionary and then pass it to the function. use case-\n",
    "\n",
    "def details(**kwargs):\n",
    "    for key,value in kwargs.items():\n",
    "        print(key,\":\", value)"
   ]
  },
  {
   "cell_type": "code",
   "execution_count": 19,
   "id": "73b9faa7-6fa8-4323-84e8-39772a9e8a0f",
   "metadata": {},
   "outputs": [
    {
     "name": "stdout",
     "output_type": "stream",
     "text": [
      "Name : Abhay Badoni\n",
      "Age : 22\n",
      "Gender : M\n"
     ]
    }
   ],
   "source": [
    "details(Name=\"Abhay Badoni\", Age=22, Gender= \"M\")"
   ]
  },
  {
   "cell_type": "code",
   "execution_count": 20,
   "id": "c77606a5-dd8f-4b69-8e34-40d4fd2e9a10",
   "metadata": {},
   "outputs": [
    {
     "name": "stdout",
     "output_type": "stream",
     "text": [
      "Department : CSE\n",
      "HOD : P P Das\n"
     ]
    }
   ],
   "source": [
    "details(Department=\"CSE\",HOD=\"P P Das\")"
   ]
  },
  {
   "cell_type": "code",
   "execution_count": 21,
   "id": "366b6446-41fa-47a6-a3fb-9a942094197c",
   "metadata": {},
   "outputs": [
    {
     "name": "stdout",
     "output_type": "stream",
     "text": [
      "2\n",
      "4\n",
      "6\n",
      "8\n",
      "10\n"
     ]
    }
   ],
   "source": [
    "#Q3-\n",
    "# iterator in python is a object which can iterate through the sequence of elements.\n",
    "# to initialize the iterator we use iter( iterable ) function which convert iterable object passed to the iterator\n",
    "# to iterate throuh the elements of iterator we use next() method , which on calling on a iterator return the next\n",
    "# element of the iterator sequence.\n",
    "\n",
    "#eg-\n",
    "ls = [2, 4, 6, 8, 10, 12, 14, 16, 18, 20]\n",
    "i_ls= iter(ls)\n",
    "for i in range(5):\n",
    "    print(next(i_ls))"
   ]
  },
  {
   "cell_type": "code",
   "execution_count": 22,
   "id": "a4179fcc-7332-4917-9351-830ff9b7cd67",
   "metadata": {},
   "outputs": [
    {
     "name": "stdout",
     "output_type": "stream",
     "text": [
      "0\n",
      "1\n",
      "4\n",
      "9\n",
      "16\n"
     ]
    }
   ],
   "source": [
    "#Q4-\n",
    "# generator function is a special function which return the iterator object with the sequence of values instead of\n",
    "# the returning single value(i.e. a whole sequence, which take a large space in the memory for a big sequence).\n",
    "# it is defined like a normal function but in this we use 'yield' keyword inside it, instead of 'return' keyword.\n",
    "\n",
    "# Whenever the generator functions encounters 'yield' keyword, it temporarily suspends the current execution and \n",
    "# returns the yielded value. As while suspension it saved the function state so it resume from where it left off,\n",
    "# the next time its called.\n",
    "\n",
    "# Eg.-\n",
    "\n",
    "def squared_no(n):\n",
    "    for i in range(n):\n",
    "        yield i**2\n",
    "        \n",
    "sq_ob= squared_no(5)\n",
    "\n",
    "for i in sq_ob:\n",
    "    print(i)"
   ]
  },
  {
   "cell_type": "code",
   "execution_count": 31,
   "id": "49712378-a1cf-46a5-9b2a-faadd8ed7c63",
   "metadata": {},
   "outputs": [
    {
     "name": "stdout",
     "output_type": "stream",
     "text": [
      "2\n",
      "3\n",
      "5\n",
      "7\n",
      "11\n",
      "13\n",
      "17\n",
      "19\n",
      "23\n",
      "29\n",
      "31\n",
      "37\n",
      "41\n",
      "43\n",
      "47\n",
      "53\n",
      "59\n",
      "61\n",
      "67\n",
      "71\n"
     ]
    }
   ],
   "source": [
    "#Q5-\n",
    "def prime_no():\n",
    "    primes=[]\n",
    "    n = 2\n",
    "    while True and n < 1000:\n",
    "        if all( n % prime != 0 for prime in primes):\n",
    "            primes.append(n)\n",
    "            yield n\n",
    "            \n",
    "        n+=1\n",
    "        \n",
    "prime_iter= prime_no()\n",
    "\n",
    "for i in range(20):\n",
    "    print(next(prime_iter))\n",
    "            "
   ]
  },
  {
   "cell_type": "code",
   "execution_count": 32,
   "id": "638c7ab2-0e11-4c63-996b-24037f11c1aa",
   "metadata": {},
   "outputs": [
    {
     "name": "stdout",
     "output_type": "stream",
     "text": [
      "0\n",
      "1\n",
      "1\n",
      "2\n",
      "3\n",
      "5\n",
      "8\n",
      "13\n",
      "21\n",
      "34\n"
     ]
    }
   ],
   "source": [
    "#Q6-\n",
    "def feb_series(n):\n",
    "    a=0\n",
    "    b=1\n",
    "    while n>0:\n",
    "        print(a)\n",
    "        a, b = b, a+b\n",
    "        n-=1\n",
    "        \n",
    "feb_series(10)"
   ]
  },
  {
   "cell_type": "code",
   "execution_count": 34,
   "id": "cc58391d-eb1e-49a7-8ad4-2925f7d7b10c",
   "metadata": {},
   "outputs": [
    {
     "name": "stdout",
     "output_type": "stream",
     "text": [
      "['p', 'w', 's', 'k', 'i', 'l', 'l', 's']\n"
     ]
    }
   ],
   "source": [
    "#Q7-\n",
    "s=\"pwskills\"\n",
    "s_iter= iter(s)\n",
    "print([i for i in s_iter])"
   ]
  },
  {
   "cell_type": "code",
   "execution_count": 40,
   "id": "f498bcd2-9e31-4686-a104-36d95578163e",
   "metadata": {},
   "outputs": [
    {
     "name": "stdin",
     "output_type": "stream",
     "text": [
      "Enter a No. to check for palindrome 18381\n"
     ]
    },
    {
     "name": "stdout",
     "output_type": "stream",
     "text": [
      "Number is Palindrome\n"
     ]
    }
   ],
   "source": [
    "#Q8-\n",
    "def check_pal(n):\n",
    "    unreversed_no=n\n",
    "    reversed_no=0\n",
    "    while n>0:\n",
    "        d=n%10\n",
    "        reversed_no=(reversed_no)*10 + d\n",
    "        n //=10\n",
    "        \n",
    "    if unreversed_no==reversed_no:\n",
    "        return True\n",
    "    else:\n",
    "        return False\n",
    "    \n",
    "num=int(input(\"Enter a No. to check for palindrome\"))\n",
    "if check_pal(num):\n",
    "        print(\"Number is Palindrome\")\n",
    "else:\n",
    "    print(\"Number is Not Plaindrome\")\n"
   ]
  },
  {
   "cell_type": "code",
   "execution_count": 38,
   "id": "29be3bc0-b951-4947-a90b-4e35c701804c",
   "metadata": {},
   "outputs": [
    {
     "name": "stdout",
     "output_type": "stream",
     "text": [
      "[1, 3, 5, 7, 9, 11, 13, 15, 17, 19, 21, 23, 25, 27, 29, 31, 33, 35, 37, 39, 41, 43, 45, 47, 49, 51, 53, 55, 57, 59, 61, 63, 65, 67, 69, 71, 73, 75, 77, 79, 81, 83, 85, 87, 89, 91, 93, 95, 97, 99]\n"
     ]
    }
   ],
   "source": [
    "#Q9-\n",
    "odd_ls = [ i for i in range(1,101) if i%2!=0]\n",
    "print(odd_ls)"
   ]
  },
  {
   "cell_type": "code",
   "execution_count": null,
   "id": "3a0bd247-a390-4cdd-b432-ad20ebd2de74",
   "metadata": {},
   "outputs": [],
   "source": []
  }
 ],
 "metadata": {
  "kernelspec": {
   "display_name": "Python 3 (ipykernel)",
   "language": "python",
   "name": "python3"
  },
  "language_info": {
   "codemirror_mode": {
    "name": "ipython",
    "version": 3
   },
   "file_extension": ".py",
   "mimetype": "text/x-python",
   "name": "python",
   "nbconvert_exporter": "python",
   "pygments_lexer": "ipython3",
   "version": "3.10.8"
  }
 },
 "nbformat": 4,
 "nbformat_minor": 5
}
