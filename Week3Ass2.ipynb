{
 "cells": [
  {
   "cell_type": "code",
   "execution_count": 1,
   "id": "4ef49268-64cb-4065-a63d-1905446dcdd6",
   "metadata": {},
   "outputs": [],
   "source": [
    "#Q1-\n",
    "ls= [('Sachin Tendulkar', 34357), ('Ricky Ponting', 27483), ('Jack Kallis', 25534), ('Virat Kohli', 24936)]\n",
    "ls.sort(key=lambda x: x[1])"
   ]
  },
  {
   "cell_type": "code",
   "execution_count": 2,
   "id": "9722d82c-c419-4b35-a851-64516ca09eec",
   "metadata": {},
   "outputs": [
    {
     "data": {
      "text/plain": [
       "[('Virat Kohli', 24936),\n",
       " ('Jack Kallis', 25534),\n",
       " ('Ricky Ponting', 27483),\n",
       " ('Sachin Tendulkar', 34357)]"
      ]
     },
     "execution_count": 2,
     "metadata": {},
     "output_type": "execute_result"
    }
   ],
   "source": [
    "ls"
   ]
  },
  {
   "cell_type": "code",
   "execution_count": 3,
   "id": "498dff14-c3c9-43a9-a5d7-631f2ae05f7b",
   "metadata": {},
   "outputs": [
    {
     "name": "stdout",
     "output_type": "stream",
     "text": [
      "[1, 4, 9, 16, 25, 36, 49, 64, 81, 100]\n"
     ]
    }
   ],
   "source": [
    "#Q2-\n",
    "ls = [1, 2, 3, 4, 5, 6, 7, 8, 9, 10]\n",
    "print(list(map(lambda x: x**2 , ls)))"
   ]
  },
  {
   "cell_type": "code",
   "execution_count": 4,
   "id": "110ab59e-b1ae-4d42-a9a6-dd34f905e720",
   "metadata": {},
   "outputs": [
    {
     "name": "stdout",
     "output_type": "stream",
     "text": [
      "('1', '2', '3', '4', '5', '6', '7', '8', '9', '10')\n"
     ]
    }
   ],
   "source": [
    "#Q3-\n",
    "ls = [1, 2, 3, 4, 5, 6, 7, 8, 9, 10]\n",
    "print(tuple(map(lambda x:str(x),ls)))"
   ]
  },
  {
   "cell_type": "code",
   "execution_count": 7,
   "id": "06445c2b-5e83-490e-ab1c-d6f4804b4d74",
   "metadata": {},
   "outputs": [
    {
     "name": "stdout",
     "output_type": "stream",
     "text": [
      "15511210043330985984000000\n"
     ]
    }
   ],
   "source": [
    "#Q4-\n",
    "ls = list(range(1,26))\n",
    "from functools import reduce\n",
    "print(reduce(lambda x,y : x*y, ls))"
   ]
  },
  {
   "cell_type": "code",
   "execution_count": 9,
   "id": "86dbd379-4cba-4bcd-a5cf-54e2ff863a10",
   "metadata": {},
   "outputs": [
    {
     "name": "stdout",
     "output_type": "stream",
     "text": [
      "[6, 60, 90, 120]\n"
     ]
    }
   ],
   "source": [
    "#Q5-\n",
    "ls=[2, 3, 6, 9, 27, 60, 90, 120, 55, 46]\n",
    "print(list(filter(lambda x : x%2==0 and x%3==0, ls)))"
   ]
  },
  {
   "cell_type": "code",
   "execution_count": 10,
   "id": "516d77aa-5aef-4cf4-ae46-682c85f9b75b",
   "metadata": {},
   "outputs": [
    {
     "name": "stdout",
     "output_type": "stream",
     "text": [
      "['php', 'aba', 'radar', 'level']\n"
     ]
    }
   ],
   "source": [
    "#Q6-\n",
    "ls=['python', 'php', 'aba', 'radar', 'level']\n",
    "print(list(filter(lambda x: x == x[::-1], ls)))"
   ]
  },
  {
   "cell_type": "code",
   "execution_count": null,
   "id": "267591e5-3da5-485e-8897-4eb20ca0ccf1",
   "metadata": {},
   "outputs": [],
   "source": []
  }
 ],
 "metadata": {
  "kernelspec": {
   "display_name": "Python 3 (ipykernel)",
   "language": "python",
   "name": "python3"
  },
  "language_info": {
   "codemirror_mode": {
    "name": "ipython",
    "version": 3
   },
   "file_extension": ".py",
   "mimetype": "text/x-python",
   "name": "python",
   "nbconvert_exporter": "python",
   "pygments_lexer": "ipython3",
   "version": "3.10.8"
  }
 },
 "nbformat": 4,
 "nbformat_minor": 5
}
